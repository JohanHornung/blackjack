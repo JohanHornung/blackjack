{
 "cells": [
  {
   "cell_type": "code",
   "execution_count": 1,
   "metadata": {},
   "outputs": [
    {
     "name": "stderr",
     "output_type": "stream",
     "text": [
      "Using TensorFlow backend.\n"
     ]
    }
   ],
   "source": [
    "import numpy as np\n",
    "import pandas as pd\n",
    "import random\n",
    "import matplotlib.pyplot as plt\n",
    "import seaborn as sns\n",
    "import sklearn.metrics as metrics\n",
    "from keras.models import Sequential\n",
    "from keras.layers import Dense, LSTM, Flatten, Dropout"
   ]
  },
  {
   "cell_type": "code",
   "execution_count": 2,
   "metadata": {},
   "outputs": [],
   "source": [
    "# This function lists out all permutations of ace values in the array sum_array\n",
    "# For example, if you have 2 aces, there are 4 permutations:\n",
    "#     [[1,1], [1,11], [11,1], [11,11]]\n",
    "# These permutations lead to 3 unique sums: [2, 12, 22]\n",
    "# Of these 3, only 2 are <=21 so they are returned: [2, 12]\n",
    "def get_ace_values(temp_list):\n",
    "    sum_array = np.zeros((2**len(temp_list), len(temp_list)))\n",
    "    # This loop gets the permutations\n",
    "    for i in range(len(temp_list)):\n",
    "        n = len(temp_list) - i\n",
    "        half_len = int(2**n * 0.5)\n",
    "        for rep in range(int(sum_array.shape[0]/half_len/2)):\n",
    "            sum_array[rep*2**n : rep*2**n+half_len, i] = 1\n",
    "            sum_array[rep*2**n+half_len : rep*2**n+half_len*2, i] = 11\n",
    "    # Only return values that are valid (<=21)\n",
    "    # return list(set([int(s) for s in np.sum(sum_array, axis=1) if s<=21]))\n",
    "    return [int(s) for s in np.sum(sum_array, axis=1)]\n",
    "\n",
    "# Convert num_aces, an int to a list of lists\n",
    "# For example if num_aces=2, the output should be [[1,11],[1,11]]\n",
    "# I require this format for the get_ace_values function\n",
    "def ace_values(num_aces):\n",
    "    temp_list = []\n",
    "    for i in range(num_aces):\n",
    "        temp_list.append([1,11])\n",
    "    return get_ace_values(temp_list)"
   ]
  },
  {
   "cell_type": "code",
   "execution_count": 3,
   "metadata": {},
   "outputs": [],
   "source": [
    "# Make a deck\n",
    "def make_decks(num_decks, card_types):\n",
    "    new_deck = []\n",
    "    for i in range(num_decks):\n",
    "        for j in range(4):\n",
    "            new_deck.extend(card_types)\n",
    "    random.shuffle(new_deck)\n",
    "    return new_deck\n",
    "\n",
    "# Total up value of hand\n",
    "def total_up(hand):\n",
    "    aces = 0\n",
    "    total = 0\n",
    "    \n",
    "    for card in hand:\n",
    "        if card != 'A':\n",
    "            total += card\n",
    "        else:\n",
    "            aces += 1\n",
    "    \n",
    "    # Call function ace_values to produce list of possible values for aces in hand\n",
    "    ace_value_list = ace_values(aces)\n",
    "    final_totals = [i+total for i in ace_value_list if i+total<=21]\n",
    "    \n",
    "    if final_totals == []:\n",
    "        return min(ace_value_list) + total\n",
    "    else:\n",
    "        return max(final_totals)\n",
    "    \n",
    "# Play a game of blackjack (after the cards are dealt)\n",
    "def play_game(dealer_hand, player_hands, blackjack, curr_player_results, dealer_cards, hit_stay):\n",
    "    action = 0\n",
    "    # Dealer checks for 21\n",
    "    if set(dealer_hand) == blackjack:\n",
    "        for player in range(players):\n",
    "            if set(player_hands[player]) != blackjack:\n",
    "                curr_player_results[0,player] = -1\n",
    "            else:\n",
    "                curr_player_results[0,player] = 0\n",
    "    else:\n",
    "        for player in range(players):\n",
    "            # Players check for 21\n",
    "            if set(player_hands[player]) == blackjack:\n",
    "                curr_player_results[0,player] = 1\n",
    "            else:\n",
    "                # Hit randomly, check for busts\n",
    "                if (hit_stay >= 0.5) and (total_up(player_hands[player]) != 21):\n",
    "                    player_hands[player].append(dealer_cards.pop(0))\n",
    "                    action = 1\n",
    "                    live_total.append(total_up(player_hands[player]))\n",
    "                    if total_up(player_hands[player]) > 21:\n",
    "                        curr_player_results[0,player] = -1\n",
    "\n",
    "    # Dealer hits based on the rules\n",
    "    while total_up(dealer_hand) < 17:\n",
    "        dealer_hand.append(dealer_cards.pop(0))\n",
    "    # Compare dealer hand to players hand but first check if dealer busted\n",
    "    if total_up(dealer_hand) > 21:\n",
    "        for player in range(players):\n",
    "            if curr_player_results[0,player] != -1:\n",
    "                curr_player_results[0,player] = 1\n",
    "    else:\n",
    "        for player in range(players):\n",
    "            if total_up(player_hands[player]) > total_up(dealer_hand):\n",
    "                if total_up(player_hands[player]) <= 21:\n",
    "                    curr_player_results[0,player] = 1\n",
    "            elif total_up(player_hands[player]) == total_up(dealer_hand):\n",
    "                curr_player_results[0,player] = 0\n",
    "            else:\n",
    "                curr_player_results[0,player] = -1\n",
    "                \n",
    "    return curr_player_results, dealer_cards, action"
   ]
  },
  {
   "cell_type": "code",
   "execution_count": 4,
   "metadata": {},
   "outputs": [],
   "source": [
    "stacks = 50000\n",
    "players = 1\n",
    "num_decks = 1\n",
    "\n",
    "card_types = ['A',2,3,4,5,6,7,8,9,10,10,10,10]\n",
    "\n",
    "dealer_card_feature = []\n",
    "player_card_feature = []\n",
    "player_live_total = []\n",
    "player_live_action = []\n",
    "player_results = []\n",
    "\n",
    "for stack in range(stacks):\n",
    "    blackjack = set(['A',10])\n",
    "    dealer_cards = make_decks(num_decks, card_types)\n",
    "    while len(dealer_cards) > 20:\n",
    "        \n",
    "        curr_player_results = np.zeros((1,players))\n",
    "        \n",
    "        dealer_hand = []\n",
    "        player_hands = [[] for player in range(players)]\n",
    "        live_total = []\n",
    "        live_action = []\n",
    "\n",
    "        # Deal FIRST card\n",
    "        for player, hand in enumerate(player_hands):\n",
    "            player_hands[player].append(dealer_cards.pop(0))\n",
    "        dealer_hand.append(dealer_cards.pop(0))\n",
    "        # Deal SECOND card\n",
    "        for player, hand in enumerate(player_hands):\n",
    "            player_hands[player].append(dealer_cards.pop(0))\n",
    "        dealer_hand.append(dealer_cards.pop(0))\n",
    "        \n",
    "        # Record the player's live total after cards are dealt\n",
    "        live_total.append(total_up(player_hands[player]))\n",
    "        \n",
    "        if stack < 25000:\n",
    "            hit_stay = 1\n",
    "        else:\n",
    "            hit_stay = 0\n",
    "        curr_player_results, dealer_cards, action = play_game(dealer_hand, player_hands, \n",
    "                                                              blackjack, curr_player_results, \n",
    "                                                              dealer_cards, hit_stay)\n",
    "        \n",
    "        # Track features\n",
    "        dealer_card_feature.append(dealer_hand[0])\n",
    "        player_card_feature.append(player_hands)\n",
    "        player_results.append(list(curr_player_results[0]))\n",
    "        player_live_total.append(live_total)\n",
    "        player_live_action.append(action)\n",
    "\n",
    "model_df = pd.DataFrame()\n",
    "model_df['dealer_card'] = dealer_card_feature\n",
    "model_df['player_total_initial'] = [total_up(i[0][0:2]) for i in player_card_feature]\n",
    "model_df['hit?'] = player_live_action\n",
    "\n",
    "has_ace = []\n",
    "for i in player_card_feature:\n",
    "    if ('A' in i[0][0:2]):\n",
    "        has_ace.append(1)\n",
    "    else:\n",
    "        has_ace.append(0)\n",
    "model_df['has_ace'] = has_ace\n",
    "\n",
    "dealer_card_num = []\n",
    "for i in model_df['dealer_card']:\n",
    "    if i=='A':\n",
    "        dealer_card_num.append(11)\n",
    "    else:\n",
    "        dealer_card_num.append(i)\n",
    "model_df['dealer_card_num'] = dealer_card_num\n",
    "\n",
    "model_df['Y'] = [i[0] for i in player_results]\n",
    "lose = []\n",
    "for i in model_df['Y']:\n",
    "    if i == -1:\n",
    "        lose.append(1)\n",
    "    else:\n",
    "        lose.append(0)\n",
    "model_df['lose'] = lose\n",
    "\n",
    "correct = []\n",
    "for i, val in enumerate(model_df['lose']):\n",
    "    if val == 1:\n",
    "        if player_live_action[i] == 1:\n",
    "            correct.append(0)\n",
    "        else:\n",
    "            correct.append(1)\n",
    "    else:\n",
    "        if player_live_action[i] == 1:\n",
    "            correct.append(1)\n",
    "        else:\n",
    "            correct.append(0)\n",
    "model_df['correct_action'] = correct"
   ]
  },
  {
   "cell_type": "code",
   "execution_count": 5,
   "metadata": {},
   "outputs": [
    {
     "data": {
      "text/plain": [
       "322248"
      ]
     },
     "execution_count": 5,
     "metadata": {},
     "output_type": "execute_result"
    }
   ],
   "source": [
    "sum(pd.DataFrame(player_results)[0].value_counts())"
   ]
  },
  {
   "cell_type": "code",
   "execution_count": 6,
   "metadata": {},
   "outputs": [
    {
     "data": {
      "text/plain": [
       "-1.0    193003\n",
       " 1.0    113079\n",
       " 0.0     16166\n",
       "Name: 0, dtype: int64"
      ]
     },
     "execution_count": 6,
     "metadata": {},
     "output_type": "execute_result"
    }
   ],
   "source": [
    "pd.DataFrame(player_results)[0].value_counts()"
   ]
  },
  {
   "cell_type": "code",
   "execution_count": 7,
   "metadata": {},
   "outputs": [
    {
     "data": {
      "image/png": "[encoded data removed]",
      "text/plain": [
       "<Figure size 720x432 with 1 Axes>"
      ]
     },
     "metadata": {
      "needs_background": "light"
     },
     "output_type": "display_data"
    }
   ],
   "source": [
    "data = 1 - (model_df.groupby(by='dealer_card').sum()['lose'] /\\\n",
    "            model_df.groupby(by='dealer_card').count()['lose'])\n",
    "\n",
    "fig, ax = plt.subplots(figsize=(10,6))\n",
    "ax = sns.barplot(x=data.index, \n",
    "                 y=data.values)\n",
    "ax.set_xlabel(\"Dealer's Card\",fontsize=16)\n",
    "ax.set_ylabel(\"Probability of Tie or Win\",fontsize=16)\n",
    "\n",
    "plt.tight_layout()\n",
    "# plt.savefig(fname='dealer_card_probs', dpi=150)"
   ]
  },
  {
   "cell_type": "code",
   "execution_count": 8,
   "metadata": {},
   "outputs": [
    {
     "data": {
      "image/png": "[encoded data removed]",
      "text/plain": [
       "<Figure size 720x432 with 1 Axes>"
      ]
     },
     "metadata": {
      "needs_background": "light"
     },
     "output_type": "display_data"
    }
   ],
   "source": [
    "data = 1 - (model_df.groupby(by='player_total_initial').sum()['lose'] /\\\n",
    "            model_df.groupby(by='player_total_initial').count()['lose'])\n",
    "\n",
    "fig, ax = plt.subplots(figsize=(10,6))\n",
    "ax = sns.barplot(x=data[:-1].index,\n",
    "                 y=data[:-1].values)\n",
    "ax.set_xlabel(\"Player's Hand Value\",fontsize=16)\n",
    "ax.set_ylabel(\"Probability of Tie or Win\",fontsize=16)\n",
    "\n",
    "plt.tight_layout()\n",
    "# plt.savefig(fname='player_hand_probs', dpi=150)"
   ]
  },
  {
   "cell_type": "code",
   "execution_count": 9,
   "metadata": {},
   "outputs": [
    {
     "data": {
      "text/plain": [
       "has_ace\n",
       "0    0.642137\n",
       "1    0.351310\n",
       "Name: lose, dtype: float64"
      ]
     },
     "execution_count": 9,
     "metadata": {},
     "output_type": "execute_result"
    }
   ],
   "source": [
    "model_df.groupby(by='has_ace').sum()['lose'] / model_df.groupby(by='has_ace').count()['lose']"
   ]
  },
  {
   "cell_type": "code",
   "execution_count": 10,
   "metadata": {},
   "outputs": [
    {
     "data": {
      "text/plain": [
       "Text(123.0, 0.5, \"Dealer's Card\")"
      ]
     },
     "execution_count": 10,
     "metadata": {},
     "output_type": "execute_result"
    },
    {
     "data": {
      "image/png": "[encoded data removed]",
      "text/plain": [
       "<Figure size 1152x576 with 2 Axes>"
      ]
     },
     "metadata": {
      "needs_background": "light"
     },
     "output_type": "display_data"
    }
   ],
   "source": [
    "pivot_data = model_df[model_df['player_total_initial'] != 21]\n",
    "\n",
    "losses_pivot = pd.pivot_table(pivot_data, values='lose', \n",
    "                              index=['dealer_card_num'],\n",
    "                              columns = ['player_total_initial'],\n",
    "                              aggfunc = np.sum)\n",
    "\n",
    "games_pivot =  pd.pivot_table(pivot_data, values='lose', \n",
    "                              index=['dealer_card_num'],\n",
    "                              columns = ['player_total_initial'],\n",
    "                              aggfunc = 'count')\n",
    "\n",
    "heat_data = 1 - losses_pivot.sort_index(ascending=False) / games_pivot.sort_index(ascending=False)\n",
    "\n",
    "fig, ax = plt.subplots(figsize=(16,8))\n",
    "sns.heatmap(heat_data, square=False, cmap=\"PiYG\");\n",
    "\n",
    "ax.set_xlabel(\"Player's Hand Value\",fontsize=16)\n",
    "ax.set_ylabel(\"Dealer's Card\",fontsize=16)\n",
    "\n",
    "# plt.savefig(fname='heat_map_random', dpi=150)"
   ]
  },
  {
   "cell_type": "code",
   "execution_count": 11,
   "metadata": {},
   "outputs": [],
   "source": [
    "stacks = 50000\n",
    "players = 1\n",
    "num_decks = 1\n",
    "\n",
    "card_types = ['A',2,3,4,5,6,7,8,9,10,10,10,10]\n",
    "\n",
    "dealer_card_feature = []\n",
    "player_card_feature = []\n",
    "player_results = []\n",
    "\n",
    "for stack in range(stacks):\n",
    "    blackjack = set(['A',10])\n",
    "    dealer_cards = make_decks(num_decks, card_types)\n",
    "    while len(dealer_cards) > 20:\n",
    "        \n",
    "        curr_player_results = np.zeros((1,players))\n",
    "        \n",
    "        dealer_hand = []\n",
    "        player_hands = [[] for player in range(players)]\n",
    "\n",
    "        # Deal FIRST card\n",
    "        for player, hand in enumerate(player_hands):\n",
    "            player_hands[player].append(dealer_cards.pop(0))\n",
    "        dealer_hand.append(dealer_cards.pop(0))\n",
    "        # Deal SECOND card\n",
    "        for player, hand in enumerate(player_hands):\n",
    "            player_hands[player].append(dealer_cards.pop(0))\n",
    "        dealer_hand.append(dealer_cards.pop(0))\n",
    "\n",
    "        # Dealer checks for 21\n",
    "        if set(dealer_hand) == blackjack:\n",
    "            for player in range(players):\n",
    "                if set(player_hands[player]) != blackjack:\n",
    "                    curr_player_results[0,player] = -1\n",
    "                else:\n",
    "                    curr_player_results[0,player] = 0\n",
    "        else:\n",
    "            for player in range(players):\n",
    "                # Players check for 21\n",
    "                if set(player_hands[player]) == blackjack:\n",
    "                    curr_player_results[0,player] = 1\n",
    "                else:\n",
    "                    # Hit only when we know we will not bust\n",
    "                    while total_up(player_hands[player]) <= 11:\n",
    "                        player_hands[player].append(dealer_cards.pop(0))\n",
    "                        if total_up(player_hands[player]) > 21:\n",
    "                            curr_player_results[0,player] = -1\n",
    "                            break\n",
    "        \n",
    "        # Dealer hits based on the rules\n",
    "        while total_up(dealer_hand) < 17:\n",
    "            dealer_hand.append(dealer_cards.pop(0))\n",
    "        # Compare dealer hand to players hand but first check if dealer busted\n",
    "        if total_up(dealer_hand) > 21:\n",
    "            for player in range(players):\n",
    "                if curr_player_results[0,player] != -1:\n",
    "                    curr_player_results[0,player] = 1\n",
    "        else:\n",
    "            for player in range(players):\n",
    "                if total_up(player_hands[player]) > total_up(dealer_hand):\n",
    "                    if total_up(player_hands[player]) <= 21:\n",
    "                        curr_player_results[0,player] = 1\n",
    "                elif total_up(player_hands[player]) == total_up(dealer_hand):\n",
    "                    curr_player_results[0,player] = 0\n",
    "                else:\n",
    "                    curr_player_results[0,player] = -1\n",
    "        #print('player: ' + str(total_up(player_hands[player])),\n",
    "        #      'dealer: ' + str(total_up(dealer_hand)),\n",
    "        #      'result: ' + str(curr_player_results)\n",
    "        #     )    \n",
    "        \n",
    "        # Track features\n",
    "        dealer_card_feature.append(dealer_hand[0])\n",
    "        player_card_feature.append(player_hands)\n",
    "        player_results.append(list(curr_player_results[0]))\n",
    "\n",
    "model_df_naive = pd.DataFrame()\n",
    "model_df_naive['dealer_card'] = dealer_card_feature\n",
    "model_df_naive['player_total_initial'] = [total_up(i[0][0:2]) for i in player_card_feature]\n",
    "model_df_naive['Y'] = [i[0] for i in player_results]\n",
    "\n",
    "lose = []\n",
    "for i in model_df_naive['Y']:\n",
    "    if i == -1:\n",
    "        lose.append(1)\n",
    "    else:\n",
    "        lose.append(0)\n",
    "model_df_naive['lose'] = lose\n",
    "\n",
    "has_ace = []\n",
    "for i in player_card_feature:\n",
    "    if ('A' in i[0][0:2]):\n",
    "        has_ace.append(1)\n",
    "    else:\n",
    "        has_ace.append(0)\n",
    "model_df_naive['has_ace'] = has_ace\n",
    "\n",
    "dealer_card_num = []\n",
    "for i in model_df_naive['dealer_card']:\n",
    "    if i=='A':\n",
    "        dealer_card_num.append(11)\n",
    "    else:\n",
    "        dealer_card_num.append(i)\n",
    "model_df_naive['dealer_card_num'] = dealer_card_num"
   ]
  },
  {
   "cell_type": "code",
   "execution_count": 22,
   "metadata": {},
   "outputs": [
    {
     "name": "stdout",
     "output_type": "stream",
     "text": [
      "['player_total_initial', 'hit?', 'has_ace', 'dealer_card_num']\n",
      "Epoch 1/20\n",
      "322248/322248 [==============================] - 2s 6us/step - loss: 0.6718\n",
      "Epoch 2/20\n",
      "322248/322248 [==============================] - 2s 5us/step - loss: 0.6228\n",
      "Epoch 3/20\n",
      "322248/322248 [==============================] - 2s 7us/step - loss: 0.6181\n",
      "Epoch 4/20\n",
      "322248/322248 [==============================] - 2s 6us/step - loss: 0.6167\n",
      "Epoch 5/20\n",
      "322248/322248 [==============================] - 2s 6us/step - loss: 0.6160\n",
      "Epoch 6/20\n",
      "322248/322248 [==============================] - 2s 5us/step - loss: 0.6156\n",
      "Epoch 7/20\n",
      "322248/322248 [==============================] - 2s 5us/step - loss: 0.6152\n",
      "Epoch 8/20\n",
      "322248/322248 [==============================] - 2s 5us/step - loss: 0.6148\n",
      "Epoch 9/20\n",
      "322248/322248 [==============================] - 2s 5us/step - loss: 0.6149\n",
      "Epoch 10/20\n",
      "322248/322248 [==============================] - 2s 5us/step - loss: 0.6147\n",
      "Epoch 11/20\n",
      "322248/322248 [==============================] - 2s 5us/step - loss: 0.6145\n",
      "Epoch 12/20\n",
      "322248/322248 [==============================] - 2s 5us/step - loss: 0.6146\n",
      "Epoch 13/20\n",
      "322248/322248 [==============================] - 2s 6us/step - loss: 0.6145\n",
      "Epoch 14/20\n",
      "322248/322248 [==============================] - 2s 5us/step - loss: 0.6145\n",
      "Epoch 15/20\n",
      "322248/322248 [==============================] - 2s 6us/step - loss: 0.6145\n",
      "Epoch 16/20\n",
      "322248/322248 [==============================] - 2s 6us/step - loss: 0.6144\n",
      "Epoch 17/20\n",
      "322248/322248 [==============================] - 2s 6us/step - loss: 0.6144\n",
      "Epoch 18/20\n",
      "322248/322248 [==============================] - 2s 5us/step - loss: 0.6144\n",
      "Epoch 19/20\n",
      "322248/322248 [==============================] - 2s 5us/step - loss: 0.6143\n",
      "Epoch 20/20\n",
      "322248/322248 [==============================] - 2s 5us/step - loss: 0.6143\n"
     ]
    }
   ],
   "source": [
    "# Train a neural net to play blackjack\n",
    "\n",
    "# Set up variables for neural net\n",
    "feature_list = [i for i in model_df.columns if i not in ['dealer_card',\n",
    "                                                         'Y','lose',\n",
    "                                                         'correct_action']]\n",
    "print(feature_list)\n",
    "train_X = np.array(model_df[feature_list])\n",
    "train_Y = np.array(model_df['correct_action']).reshape(-1,1)\n",
    "\n",
    "# Set up a neural net with 5 layers\n",
    "model = Sequential()\n",
    "model.add(Dense(16))\n",
    "model.add(Dense(128))\n",
    "model.add(Dense(32))\n",
    "model.add(Dense(8))\n",
    "model.add(Dense(1, activation='sigmoid'))\n",
    "model.compile(loss='binary_crossentropy', optimizer='sgd')\n",
    "model.fit(train_X, train_Y, epochs=20, batch_size=256, verbose=1)\n",
    "\n",
    "pred_Y_train = model.predict(train_X)\n",
    "actuals = train_Y[:,-1]"
   ]
  },
  {
   "cell_type": "code",
   "execution_count": 41,
   "metadata": {},
   "outputs": [
    {
     "data": {
      "image/png": "[encoded data removed]",
      "text/plain": [
       "<Figure size 720x576 with 1 Axes>"
      ]
     },
     "metadata": {
      "needs_background": "light"
     },
     "output_type": "display_data"
    }
   ],
   "source": [
    "# Plot ROC Curve\n",
    "\n",
    "fpr, tpr, threshold = metrics.roc_curve(actuals, pred_Y_train)\n",
    "roc_auc = metrics.auc(fpr, tpr)\n",
    "\n",
    "fig, ax = plt.subplots(figsize=(10,8))\n",
    "plt.plot(fpr, tpr, label = ('ROC AUC = %0.3f' % roc_auc))\n",
    "\n",
    "plt.legend(loc = 'lower right')\n",
    "plt.plot([0, 1], [0, 1],'r--')\n",
    "plt.xlim([0, 1])\n",
    "plt.ylim([0, 1])\n",
    "ax.set_xlabel(\"False Positive Rate\",fontsize=16)\n",
    "ax.set_ylabel(\"True Positive Rate\",fontsize=16)\n",
    "plt.setp(ax.get_legend().get_texts(), fontsize=16)\n",
    "\n",
    "plt.savefig(fname='roc_curve_blackjack', dpi=150)\n",
    "plt.show()"
   ]
  },
  {
   "cell_type": "code",
   "execution_count": 34,
   "metadata": {},
   "outputs": [],
   "source": [
    "# Given the relevant inputs, the function below uses the neural net to make a prediction\n",
    "# and then based on that prediction, decides whether to hit or stay\n",
    "\n",
    "def model_decision(model, player_sum, has_ace, dealer_card_num):\n",
    "    input_array = np.array([player_sum, 0, has_ace, dealer_card_num]).reshape(1,-1)\n",
    "    predict_correct = model.predict(input_array)\n",
    "    if predict_correct >= 0.52:\n",
    "        return 1\n",
    "    else:\n",
    "        return 0"
   ]
  },
  {
   "cell_type": "code",
   "execution_count": 35,
   "metadata": {},
   "outputs": [],
   "source": [
    "# Play blackjack but use the neural net to make hit/stay decision\n",
    "\n",
    "stacks = 50000\n",
    "players = 1\n",
    "num_decks = 1\n",
    "\n",
    "card_types = ['A',2,3,4,5,6,7,8,9,10,10,10,10]\n",
    "\n",
    "dealer_card_feature = []\n",
    "player_card_feature = []\n",
    "player_live_total = []\n",
    "player_live_action = []\n",
    "player_results = []\n",
    "\n",
    "for stack in range(stacks):\n",
    "    blackjack = set(['A',10])\n",
    "    dealer_cards = make_decks(num_decks, card_types)\n",
    "    while len(dealer_cards) > 20:\n",
    "        \n",
    "        curr_player_results = np.zeros((1,players))\n",
    "        \n",
    "        dealer_hand = []\n",
    "        player_hands = [[] for player in range(players)]\n",
    "        live_total = []\n",
    "        live_action = []\n",
    "\n",
    "        # Deal FIRST card\n",
    "        for player, hand in enumerate(player_hands):\n",
    "            player_hands[player].append(dealer_cards.pop(0))\n",
    "        dealer_hand.append(dealer_cards.pop(0))\n",
    "        # Deal SECOND card\n",
    "        for player, hand in enumerate(player_hands):\n",
    "            player_hands[player].append(dealer_cards.pop(0))\n",
    "        dealer_hand.append(dealer_cards.pop(0))\n",
    "        \n",
    "        # Record the player's live total after cards are dealt\n",
    "        live_total.append(total_up(player_hands[player]))\n",
    "        action = 0\n",
    "\n",
    "        # Dealer checks for 21\n",
    "        if set(dealer_hand) == blackjack:\n",
    "            for player in range(players):\n",
    "                if set(player_hands[player]) != blackjack:\n",
    "                    curr_player_results[0,player] = -1\n",
    "                else:\n",
    "                    curr_player_results[0,player] = 0\n",
    "        else:\n",
    "            for player in range(players):\n",
    "                # Players check for 21\n",
    "                if set(player_hands[player]) == blackjack:\n",
    "                    curr_player_results[0,player] = 1\n",
    "                else:\n",
    "                    # Neural net decides whether to hit or stay\n",
    "                    if 'A' in player_hands[player][0:2]:\n",
    "                        ace_in_hand = 1\n",
    "                    else:\n",
    "                        ace_in_hand = 0\n",
    "                    if dealer_hand[0] == 'A':\n",
    "                        dealer_face_up_card = 11\n",
    "                    else:\n",
    "                        dealer_face_up_card = dealer_hand[0]\n",
    "                    \n",
    "                    while (model_decision(model, total_up(player_hands[player]), \n",
    "                                          ace_in_hand, dealer_face_up_card) == 1) and (total_up(player_hands[player]) != 21):\n",
    "                        player_hands[player].append(dealer_cards.pop(0))\n",
    "                        action = 1\n",
    "                        live_total.append(total_up(player_hands[player]))\n",
    "                        if total_up(player_hands[player]) > 21:\n",
    "                            curr_player_results[0,player] = -1\n",
    "                            break\n",
    "        \n",
    "        # Dealer hits based on the rules\n",
    "        while total_up(dealer_hand) < 17:\n",
    "            dealer_hand.append(dealer_cards.pop(0))\n",
    "        # Compare dealer hand to players hand but first check if dealer busted\n",
    "        if total_up(dealer_hand) > 21:\n",
    "            for player in range(players):\n",
    "                if curr_player_results[0,player] != -1:\n",
    "                    curr_player_results[0,player] = 1\n",
    "        else:\n",
    "            for player in range(players):\n",
    "                if total_up(player_hands[player]) > total_up(dealer_hand):\n",
    "                    if total_up(player_hands[player]) <= 21:\n",
    "                        curr_player_results[0,player] = 1\n",
    "                elif total_up(player_hands[player]) == total_up(dealer_hand):\n",
    "                    curr_player_results[0,player] = 0\n",
    "                else:\n",
    "                    curr_player_results[0,player] = -1\n",
    "        \n",
    "        # Track features\n",
    "        dealer_card_feature.append(dealer_hand[0])\n",
    "        player_card_feature.append(player_hands)\n",
    "        player_results.append(list(curr_player_results[0]))\n",
    "        player_live_total.append(live_total)\n",
    "        player_live_action.append(action)\n",
    "\n",
    "model_df_smart = pd.DataFrame()\n",
    "model_df_smart['dealer_card'] = dealer_card_feature\n",
    "model_df_smart['player_total_initial'] = [total_up(i[0][0:2]) for i in player_card_feature]\n",
    "model_df_smart['hit?'] = player_live_action\n",
    "\n",
    "has_ace = []\n",
    "for i in player_card_feature:\n",
    "    if ('A' in i[0][0:2]):\n",
    "        has_ace.append(1)\n",
    "    else:\n",
    "        has_ace.append(0)\n",
    "model_df_smart['has_ace'] = has_ace\n",
    "\n",
    "dealer_card_num = []\n",
    "for i in model_df_smart['dealer_card']:\n",
    "    if i=='A':\n",
    "        dealer_card_num.append(11)\n",
    "    else:\n",
    "        dealer_card_num.append(i)\n",
    "model_df_smart['dealer_card_num'] = dealer_card_num\n",
    "\n",
    "model_df_smart['Y'] = [i[0] for i in player_results]\n",
    "lose = []\n",
    "for i in model_df_smart['Y']:\n",
    "    if i == -1:\n",
    "        lose.append(1)\n",
    "    else:\n",
    "        lose.append(0)\n",
    "model_df_smart['lose'] = lose"
   ]
  },
  {
   "cell_type": "code",
   "execution_count": 145,
   "metadata": {},
   "outputs": [
    {
     "name": "stdout",
     "output_type": "stream",
     "text": [
      "Random: 0.3509\n",
      "Random: 0.4148\n",
      "Random: 0.4194\n"
     ]
    }
   ],
   "source": [
    "print('Random: ' + str(round(model_df[model_df['Y']==1].shape[0]/model_df.shape[0], 4)))\n",
    "print('Random: ' + str(round(model_df_naive[model_df_naive['Y']==1].shape[0]/model_df_naive.shape[0], 4)))\n",
    "print('Random: ' + str(round(model_df_smart[model_df_smart['Y']==1].shape[0]/model_df_smart.shape[0], 4)))"
   ]
  },
  {
   "cell_type": "code",
   "execution_count": 36,
   "metadata": {},
   "outputs": [
    {
     "data": {
      "image/png": "[encoded data removed]",
      "text/plain": [
       "<Figure size 864x432 with 1 Axes>"
      ]
     },
     "metadata": {
      "needs_background": "light"
     },
     "output_type": "display_data"
    }
   ],
   "source": [
    "data_smart = 1 - (model_df_smart.groupby(by='dealer_card_num').sum()['lose'] /\\\n",
    "                  model_df_smart.groupby(by='dealer_card_num').count()['lose'])\n",
    "data_naive = 1 - (model_df_naive.groupby(by='dealer_card_num').sum()['lose'] /\\\n",
    "                  model_df_naive.groupby(by='dealer_card_num').count()['lose'])\n",
    "data_random = 1 - (model_df.groupby(by='dealer_card_num').sum()['lose'] /\\\n",
    "                   model_df.groupby(by='dealer_card_num').count()['lose'])\n",
    "\n",
    "data = pd.DataFrame()\n",
    "data['smart'] = data_smart\n",
    "data['naive'] = data_naive\n",
    "data['random'] = data_random\n",
    "\n",
    "fig, ax = plt.subplots(figsize=(12,6))\n",
    "ax.bar(x=data.index-0.28, height=data['smart'].values, color='blue', width=0.3, label='Smart')\n",
    "ax.bar(x=data.index, height=data['naive'].values, color='orange', width=0.3, label='Naive')\n",
    "ax.bar(x=data.index+0.28, height=data['random'].values, color='red', width=0.3, label='Coin Flip')\n",
    "ax.set_xlabel(\"Dealer's Card\",fontsize=16)\n",
    "ax.set_ylabel(\"Probability of Tie or Win\",fontsize=16)\n",
    "plt.xticks(np.arange(2, 12, 1.0))\n",
    "\n",
    "plt.legend()\n",
    "plt.tight_layout()\n",
    "plt.savefig(fname='dealer_card_probs_smart', dpi=150)"
   ]
  },
  {
   "cell_type": "code",
   "execution_count": 37,
   "metadata": {},
   "outputs": [
    {
     "data": {
      "image/png": "[encoded data removed]",
      "text/plain": [
       "<Figure size 864x432 with 1 Axes>"
      ]
     },
     "metadata": {
      "needs_background": "light"
     },
     "output_type": "display_data"
    }
   ],
   "source": [
    "data_smart = 1 - (model_df_smart.groupby(by='player_total_initial').sum()['lose'] /\\\n",
    "                  model_df_smart.groupby(by='player_total_initial').count()['lose'])\n",
    "data_naive = 1 - (model_df_naive.groupby(by='player_total_initial').sum()['lose'] /\\\n",
    "                  model_df_naive.groupby(by='player_total_initial').count()['lose'])\n",
    "data_random = 1 - (model_df.groupby(by='player_total_initial').sum()['lose'] /\\\n",
    "                   model_df.groupby(by='player_total_initial').count()['lose'])\n",
    "\n",
    "data = pd.DataFrame()\n",
    "data['smart'] = data_smart[:-1]\n",
    "data['naive'] = data_naive[:-1]\n",
    "data['random'] = data_random[:-1]\n",
    "\n",
    "fig, ax = plt.subplots(figsize=(12,6))\n",
    "ax.bar(x=data.index-0.28, height=data['smart'].values, color='blue', width=0.3, label='Smart')\n",
    "ax.bar(x=data.index, height=data['naive'].values, color='orange', width=0.3, label='Naive')\n",
    "ax.bar(x=data.index+0.28, height=data['random'].values, color='red', width=0.3, label='Coin Flip')\n",
    "ax.set_xlabel(\"Player's Hand Value\",fontsize=16)\n",
    "ax.set_ylabel(\"Probability of Tie or Win\",fontsize=16)\n",
    "plt.xticks(np.arange(4, 21, 1.0))\n",
    "\n",
    "plt.legend()\n",
    "plt.tight_layout()\n",
    "plt.savefig(fname='player_hand_probs_smart', dpi=150)"
   ]
  },
  {
   "cell_type": "code",
   "execution_count": 52,
   "metadata": {},
   "outputs": [
    {
     "data": {
      "image/png": "[encoded data removed]",
      "text/plain": [
       "<Figure size 864x432 with 1 Axes>"
      ]
     },
     "metadata": {
      "needs_background": "light"
     },
     "output_type": "display_data"
    }
   ],
   "source": [
    "# Check out the probability of hitting for various player hand totals\n",
    "game_count_df = model_df_smart.groupby(by=['player_total_initial']).count()['lose']\n",
    "game_count = np.array(game_count_df)\n",
    "hit_count = list(model_df_smart[model_df_smart['hit?']==1].groupby(by=['player_total_initial']).count()['lose'])\n",
    "hit_count.extend([0 for i in range(len(game_count) - len(hit_count))])\n",
    "hit_rate_df = pd.DataFrame(np.array(hit_count)/np.array(game_count), index=game_count_df.index, \n",
    "                           columns=['neural net hit frequency'])\n",
    "hit_rate_df.reset_index(inplace=True)\n",
    "hit_rate_df\n",
    "\n",
    "naive_hit_rate = []\n",
    "for i in range(4,22):\n",
    "    if i < 12:\n",
    "        naive_hit_rate.append(1.0)\n",
    "    else:\n",
    "        naive_hit_rate.append(0.0)\n",
    "hit_rate_df['naive strategy hit frequency'] = naive_hit_rate\n",
    "\n",
    "data = hit_rate_df[['neural net hit frequency','naive strategy hit frequency']]\n",
    "fig, ax = plt.subplots(figsize=(12,6))\n",
    "ax.bar(x=hit_rate_df['player_total_initial']-0.2, \n",
    "       height=data['neural net hit frequency'].values, color='blue', width=0.4, label='Neural Network')\n",
    "ax.bar(x=hit_rate_df['player_total_initial']+0.2, \n",
    "       height=data['naive strategy hit frequency'].values, color='orange', width=0.4, label='Naive')\n",
    "ax.set_xlabel(\"Player's Hand Value\",fontsize=16)\n",
    "ax.set_ylabel(\"Frequency of Hitting\",fontsize=16)\n",
    "plt.xticks(np.arange(4, 21, 1.0))\n",
    "\n",
    "plt.legend()\n",
    "plt.tight_layout()\n",
    "plt.savefig(fname='hit_frequency', dpi=150)"
   ]
  },
  {
   "cell_type": "code",
   "execution_count": 146,
   "metadata": {},
   "outputs": [
    {
     "data": {
      "image/png": "[encoded data removed]",
      "text/plain": [
       "<Figure size 864x432 with 1 Axes>"
      ]
     },
     "metadata": {
      "needs_background": "light"
     },
     "output_type": "display_data"
    }
   ],
   "source": [
    "# Calculate and graph the neural net's hit frequency vs. dealer card for\n",
    "# player hands in [12,13,14,15,16]\n",
    "player_despair_df = model_df_smart[(model_df_smart['player_total_initial']==12) |\\\n",
    "                              (model_df_smart['player_total_initial']==13) |\\\n",
    "                              (model_df_smart['player_total_initial']==14) |\\\n",
    "                              (model_df_smart['player_total_initial']==15) |\\\n",
    "                              (model_df_smart['player_total_initial']==16)].\\\n",
    "                   groupby(by=['dealer_card_num','hit?']).count()['lose']\n",
    "player_despair_df2 = player_despair_df.reset_index().copy()\n",
    "\n",
    "hit_rate_despair = np.array(player_despair_df2[player_despair_df2['hit?']==1])[:,-1]/\\\n",
    "                   np.array(player_despair_df2.groupby(by='dealer_card_num').sum())[:,-1]\n",
    "\n",
    "data = pd.DataFrame(hit_rate_despair, \n",
    "                    index=player_despair_df2.groupby(by='dealer_card_num').sum().index,\n",
    "                    columns = ['hit_rate'])\n",
    "fig, ax = plt.subplots(figsize=(12,6))\n",
    "ax.bar(x=data.index, height=data['hit_rate'].values)\n",
    "ax.set_xlabel(\"Dealer's Card\",fontsize=16)\n",
    "ax.set_ylabel(\"Frequency of Hitting\",fontsize=16)\n",
    "plt.xticks(np.arange(2, 12, 1.0))\n",
    "\n",
    "plt.tight_layout()\n",
    "plt.savefig(fname='hit_frequency', dpi=150)"
   ]
  },
  {
   "cell_type": "code",
   "execution_count": 180,
   "metadata": {},
   "outputs": [
    {
     "name": "stdout",
     "output_type": "stream",
     "text": [
      "Total hit frequency: 0.554\n"
     ]
    }
   ],
   "source": [
    "print('Total hit frequency: ' +\\\n",
    "      str(round(model_df_smart[model_df_smart['hit?']==1].shape[0]/np.sum(model_df_smart.shape[0]), 4)))"
   ]
  },
  {
   "cell_type": "code",
   "execution_count": null,
   "metadata": {},
   "outputs": [],
   "source": []
  }
 ],
 "metadata": {
  "kernelspec": {
   "display_name": "Python 3",
   "language": "python",
   "name": "python3"
  },
  "language_info": {
   "codemirror_mode": {
    "name": "ipython",
    "version": 3
   },
   "file_extension": ".py",
   "mimetype": "text/x-python",
   "name": "python",
   "nbconvert_exporter": "python",
   "pygments_lexer": "ipython3",
   "version": "3.7.1"
  }
 },
 "nbformat": 4,
 "nbformat_minor": 2
}
